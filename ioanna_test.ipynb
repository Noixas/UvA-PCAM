{
 "cells": [
  {
   "cell_type": "code",
   "execution_count": 1,
   "id": "initial_id",
   "metadata": {
    "collapsed": true,
    "ExecuteTime": {
     "end_time": "2023-09-20T17:54:31.107855011Z",
     "start_time": "2023-09-20T17:54:29.904076590Z"
    }
   },
   "outputs": [],
   "source": [
    "import torch\n",
    "from torch.utils.data import DataLoader\n",
    "\n",
    "from torchvision.models import resnet18\n",
    "from torchvision.datasets import PCAM\n",
    "import torchvision.transforms as transforms\n",
    "\n",
    "from torcheval.metrics import MulticlassAUROC, MulticlassAccuracy\n",
    "\n",
    "import numpy as np\n",
    "import matplotlib.pyplot as plt\n",
    "from tqdm import tqdm as _tqdm\n",
    "import os\n"
   ]
  },
  {
   "cell_type": "code",
   "execution_count": 2,
   "outputs": [
    {
     "name": "stdout",
     "output_type": "stream",
     "text": [
      "cuda\n"
     ]
    }
   ],
   "source": [
    "device = torch.device('cuda' if torch.cuda.is_available() else 'cpu')\n",
    "print(device)"
   ],
   "metadata": {
    "collapsed": false,
    "ExecuteTime": {
     "end_time": "2023-09-20T17:54:31.163304447Z",
     "start_time": "2023-09-20T17:54:31.119295475Z"
    }
   },
   "id": "f6b0e93bcef244ef"
  },
  {
   "cell_type": "code",
   "execution_count": 3,
   "outputs": [],
   "source": [
    "## Dataset and data loaders\n",
    "\n",
    "transform = transforms.Compose([\n",
    "    transforms.PILToTensor()\n",
    "])\n",
    "\n",
    "train_dataset = PCAM(root='data', split='test', download=True, transform=transform)\n",
    "val_dataset = PCAM(root='data', split='val', download=True, transform=transform)\n",
    "\n",
    "train_loader = DataLoader(train_dataset, batch_size=32, shuffle=True)\n",
    "val_loader = DataLoader(val_dataset, batch_size=32, shuffle=True)\n"
   ],
   "metadata": {
    "collapsed": false,
    "ExecuteTime": {
     "end_time": "2023-09-20T17:54:31.196952046Z",
     "start_time": "2023-09-20T17:54:31.161009720Z"
    }
   },
   "id": "ec8883ce1697a405"
  },
  {
   "cell_type": "code",
   "execution_count": 4,
   "outputs": [
    {
     "name": "stderr",
     "output_type": "stream",
     "text": [
      "/home/ioanna/miniconda3/envs/medical/lib/python3.8/site-packages/torchvision/models/_utils.py:208: UserWarning: The parameter 'pretrained' is deprecated since 0.13 and may be removed in the future, please use 'weights' instead.\n",
      "  warnings.warn(\n",
      "/home/ioanna/miniconda3/envs/medical/lib/python3.8/site-packages/torchvision/models/_utils.py:223: UserWarning: Arguments other than a weight enum or `None` for 'weights' are deprecated since 0.13 and may be removed in the future. The current behavior is equivalent to passing `weights=ResNet18_Weights.IMAGENET1K_V1`. You can also use `weights=ResNet18_Weights.DEFAULT` to get the most up-to-date weights.\n",
      "  warnings.warn(msg)\n"
     ]
    }
   ],
   "source": [
    "## Model\n",
    "\n",
    "model = resnet18(pretrained=True)\n",
    "model.to(device)\n",
    "\n",
    "# Freeze all layers except last\n",
    "for param in model.parameters():\n",
    "    param.requires_grad = False\n",
    "\n",
    "# Create classification layer    \n",
    "num_classes = 2\n",
    "model.fc = torch.nn.Linear(model.fc.in_features, num_classes)\n",
    "\n",
    "## Optimizer\n",
    "optimizer = torch.optim.SGD(model.fc.parameters(), lr=0.01, momentum=0.9)\n",
    "\n",
    "## Loss Function\n",
    "loss_fun = torch.nn.CrossEntropyLoss()\n"
   ],
   "metadata": {
    "collapsed": false,
    "ExecuteTime": {
     "end_time": "2023-09-20T17:54:32.056464313Z",
     "start_time": "2023-09-20T17:54:31.185186163Z"
    }
   },
   "id": "91fdafbb67b1c3d2"
  },
  {
   "cell_type": "code",
   "execution_count": 13,
   "outputs": [],
   "source": [
    "def uniquify(path):\n",
    "    \"\"\"\n",
    "    Creates unique path name by appending number if given path already exists\n",
    "    \"\"\"\n",
    "    \n",
    "    filename, extension = os.path.splitext(path)\n",
    "    counter = 1\n",
    "\n",
    "    while os.path.exists(path):\n",
    "        path = filename + \"_\" + str(counter) + extension\n",
    "        counter += 1\n",
    "\n",
    "    return path\n",
    "\n",
    "\n",
    "def tqdm(*args, **kwargs):\n",
    "    \"\"\"\n",
    "    Wrapper for loop progress bar\n",
    "    \"\"\"\n",
    "    \n",
    "    return _tqdm(*args, **kwargs, mininterval=1)  # Safety, do not overflow buffer\n",
    "\n",
    "\n",
    "def train(model, train_loader, val_loader, loss_fun, optimizer, num_epochs, num_classes, device, save_ckpt_path=None):\n",
    "    \"\"\"\n",
    "    Trains model\n",
    "    \"\"\"\n",
    "    \n",
    "    model.to(device)\n",
    "    \n",
    "    # Create metric monitors\n",
    "    auc = MulticlassAUROC(num_classes=num_classes)\n",
    "    accuracy = MulticlassAccuracy()\n",
    "    \n",
    "    for epoch in range(num_epochs):\n",
    "        \n",
    "        # Set the model to train mode\n",
    "        model.train()\n",
    "\n",
    "        # Initialize the running loss and metrics\n",
    "        curr_loss = 0.0\n",
    "        auc.reset()\n",
    "        accuracy.reset()\n",
    "        \n",
    "        ## Train\n",
    "        for inputs, labels in tqdm(train_loader, desc=f'Epoch {epoch+1}/{num_epochs}, Training'):\n",
    "            \n",
    "            # Move the inputs and labels to the device\n",
    "            inputs = inputs.float().to(device)\n",
    "            labels = labels.to(device)\n",
    "\n",
    "            # Zero the optimizer gradients\n",
    "            optimizer.zero_grad()\n",
    "\n",
    "            # Forward pass\n",
    "            outputs = model(inputs)\n",
    "            _, preds = torch.max(outputs, 1)\n",
    "            loss = loss_fun(outputs, labels)\n",
    "\n",
    "            # Backward pass and optimizer step\n",
    "            loss.backward()\n",
    "            optimizer.step()\n",
    "\n",
    "            # Update the running loss and metrics\n",
    "            curr_loss += loss.item() * inputs.size(0)\n",
    "            auc.update(outputs, labels)\n",
    "            accuracy.update(outputs, labels)\n",
    "\n",
    "        # Calculate the train loss and metrics\n",
    "        train_loss = curr_loss / len(train_dataset)\n",
    "        train_acc = accuracy.compute()\n",
    "        train_auc = auc.compute()\n",
    "\n",
    "        # Set the model to evaluation mode\n",
    "        model.eval()\n",
    "\n",
    "        # Initialize the running loss\n",
    "        curr_loss = 0.0\n",
    "        \n",
    "        # Initialize the metrics\n",
    "        auc.reset()\n",
    "        accuracy.reset()\n",
    "\n",
    "        ## Validate\n",
    "        with torch.no_grad():\n",
    "            for inputs, labels in tqdm(val_loader, desc=f'Epoch {epoch+1}/{num_epochs}, Validation'):\n",
    "                \n",
    "                # Move the inputs and labels to the device\n",
    "                inputs = inputs.float().to(device)\n",
    "                labels = labels.to(device)\n",
    "\n",
    "                # Forward pass\n",
    "                outputs = model(inputs)\n",
    "                _, preds = torch.max(outputs, 1)\n",
    "                loss = loss_fun(outputs, labels)\n",
    "\n",
    "                # Update the running loss and metrics\n",
    "                curr_loss += loss.item() * inputs.size(0)\n",
    "                auc.update(outputs, labels)\n",
    "                accuracy.update(outputs, labels)\n",
    "\n",
    "        # Calculate the validation loss, accuracy and AUC\n",
    "        val_loss = curr_loss / len(val_dataset)\n",
    "        val_acc = accuracy.compute()\n",
    "        val_auc = auc.compute()\n",
    "\n",
    "        # Print the epoch results\n",
    "        print('Train Loss: {:.4f}, Train Acc: {:.4f}, Train AUC: {:.4f}, \\n Val Loss: {:.4f}, Val Acc: {:.4f}, Val AUC: {:.4f}\\n'\n",
    "              .format(train_loss, train_acc, train_auc, val_loss, val_acc, val_auc))\n",
    "        \n",
    "        ## Save model checkpoint\n",
    "        if save_ckpt_path is None:\n",
    "            save_ckpt_path = os.path.join('models',f'{model.__class__.__name__}.pt')\n",
    "            if not os.path.exists('models'):  # If folder 'models' doesn't exist, create it\n",
    "                os.makedirs('models')\n",
    "        save_ckpt_path = uniquify(save_ckpt_path)  # Create unique path name by appending number if given path already exists\n",
    "        torch.save({\n",
    "            'epoch': epoch,\n",
    "            'model_state_dict': model.state_dict(),\n",
    "            'optimizer_state_dict': optimizer.state_dict(),\n",
    "            'train_loss': train_loss,\n",
    "            'train_acc': train_acc,\n",
    "            'train_auc': train_auc,\n",
    "            'val_loss': val_loss,\n",
    "            'val_acc':val_acc,\n",
    "            'val_auc': val_auc,\n",
    "            }, save_ckpt_path)\n",
    "        "
   ],
   "metadata": {
    "collapsed": false,
    "ExecuteTime": {
     "end_time": "2023-09-20T18:04:18.909408113Z",
     "start_time": "2023-09-20T18:04:18.864073591Z"
    }
   },
   "id": "ec3108b8876c27ac"
  },
  {
   "cell_type": "code",
   "execution_count": 14,
   "outputs": [
    {
     "name": "stderr",
     "output_type": "stream",
     "text": [
      "Epoch 1/1, Training: 100%|██████████| 1024/1024 [00:29<00:00, 35.07it/s]\n",
      "Epoch 1/1, Validation: 100%|██████████| 1024/1024 [00:29<00:00, 35.16it/s]"
     ]
    },
    {
     "name": "stdout",
     "output_type": "stream",
     "text": [
      "Train Loss: 0.8931, Train Acc: 0.7650, Train AUC: 0.8324, \n",
      " Val Loss: 1.8996, Val Acc: 0.6412, Val AUC: 0.8051\n"
     ]
    },
    {
     "name": "stderr",
     "output_type": "stream",
     "text": [
      "\n"
     ]
    }
   ],
   "source": [
    "train(model, train_loader, val_loader, loss_fun, optimizer, num_epochs=1, num_classes = 2, device=device)"
   ],
   "metadata": {
    "collapsed": false,
    "ExecuteTime": {
     "end_time": "2023-09-20T18:05:19.027081964Z",
     "start_time": "2023-09-20T18:04:20.631066074Z"
    }
   },
   "id": "9a5fc95dcb80dedc"
  },
  {
   "cell_type": "code",
   "execution_count": null,
   "outputs": [],
   "source": [],
   "metadata": {
    "collapsed": false
   },
   "id": "2a92f49a66ac98aa"
  }
 ],
 "metadata": {
  "kernelspec": {
   "display_name": "Python 3",
   "language": "python",
   "name": "python3"
  },
  "language_info": {
   "codemirror_mode": {
    "name": "ipython",
    "version": 2
   },
   "file_extension": ".py",
   "mimetype": "text/x-python",
   "name": "python",
   "nbconvert_exporter": "python",
   "pygments_lexer": "ipython2",
   "version": "2.7.6"
  }
 },
 "nbformat": 4,
 "nbformat_minor": 5
}
