{
 "cells": [
  {
   "cell_type": "code",
   "execution_count": 6,
   "id": "initial_id",
   "metadata": {
    "collapsed": true,
    "ExecuteTime": {
     "end_time": "2023-09-21T10:48:10.009796534Z",
     "start_time": "2023-09-21T10:48:09.968788197Z"
    }
   },
   "outputs": [
    {
     "name": "stderr",
     "output_type": "stream",
     "text": [
      "/tmp/ipykernel_45822/2855028429.py:9: DeprecationWarning: Importing display from IPython.core.display is deprecated since IPython 7.14, please import from IPython display\n",
      "  from IPython.core.display import display\n"
     ]
    }
   ],
   "source": [
    "import torch\n",
    "from torch.utils.data import DataLoader\n",
    "\n",
    "from torchvision.models import alexnet, vgg16, googlenet, inception_v3, resnet18, densenet161\n",
    "from torchvision.datasets import PCAM\n",
    "import torchvision.transforms as transforms\n",
    "\n",
    "import ipywidgets as widgets\n",
    "from IPython.core.display import display\n",
    "\n",
    "from pcam import train\n"
   ]
  },
  {
   "cell_type": "code",
   "execution_count": 7,
   "outputs": [
    {
     "name": "stdout",
     "output_type": "stream",
     "text": [
      "cpu\n"
     ]
    }
   ],
   "source": [
    "device = torch.device('cuda' if torch.cuda.is_available() else 'cpu')\n",
    "print(device)\n"
   ],
   "metadata": {
    "collapsed": false,
    "ExecuteTime": {
     "end_time": "2023-09-21T10:48:10.663802117Z",
     "start_time": "2023-09-21T10:48:10.658820038Z"
    }
   },
   "id": "f6b0e93bcef244ef"
  },
  {
   "cell_type": "code",
   "execution_count": 8,
   "outputs": [],
   "source": [
    "## Dataset and data loaders\n",
    "\n",
    "transform = transforms.Compose([\n",
    "    transforms.PILToTensor()\n",
    "])\n",
    "\n",
    "train_dataset = PCAM(root='data', split='train', download=True, transform=transform)\n",
    "val_dataset = PCAM(root='data', split='val', download=True, transform=transform)\n",
    "\n",
    "train_loader = DataLoader(train_dataset, batch_size=32, shuffle=True)\n",
    "val_loader = DataLoader(val_dataset, batch_size=32, shuffle=True)\n"
   ],
   "metadata": {
    "collapsed": false,
    "ExecuteTime": {
     "end_time": "2023-09-21T10:48:11.118021528Z",
     "start_time": "2023-09-21T10:48:11.114945941Z"
    }
   },
   "id": "ec8883ce1697a405"
  },
  {
   "cell_type": "code",
   "execution_count": 9,
   "outputs": [
    {
     "data": {
      "text/plain": "Select(description='Model:', options=(('AlexNet', <function alexnet at 0x7f38e678b9d0>), ('VGG-16', <function …",
      "application/vnd.jupyter.widget-view+json": {
       "version_major": 2,
       "version_minor": 0,
       "model_id": "1c58b7df9d26439c8ddf13ed2a205994"
      }
     },
     "metadata": {},
     "output_type": "display_data"
    }
   ],
   "source": [
    "## Model Selection\n",
    "\n",
    "model_widget = widgets.Select(\n",
    "    options=[('AlexNet', alexnet), ('VGG-16', vgg16), ('GoogleNet', googlenet), ('Inception-v3', inception_v3), ('ResNet-18', resnet18), ('DenseNet-161', densenet161)],\n",
    "    value=alexnet,\n",
    "    description='Model:',\n",
    "    disabled=False,\n",
    ")\n",
    "display(model_widget)"
   ],
   "metadata": {
    "collapsed": false,
    "ExecuteTime": {
     "end_time": "2023-09-21T10:48:11.510499011Z",
     "start_time": "2023-09-21T10:48:11.482259987Z"
    }
   },
   "id": "ab71cba5a3dbe89a"
  },
  {
   "cell_type": "code",
   "execution_count": 11,
   "outputs": [
    {
     "name": "stdout",
     "output_type": "stream",
     "text": [
      "Selected Model: resnet18\n"
     ]
    },
    {
     "name": "stderr",
     "output_type": "stream",
     "text": [
      "/home/ioanna/miniconda3/envs/medical/lib/python3.8/site-packages/torchvision/models/_utils.py:223: UserWarning: Arguments other than a weight enum or `None` for 'weights' are deprecated since 0.13 and may be removed in the future. The current behavior is equivalent to passing `weights=ResNet18_Weights.IMAGENET1K_V1`. You can also use `weights=ResNet18_Weights.DEFAULT` to get the most up-to-date weights.\n",
      "  warnings.warn(msg)\n"
     ]
    }
   ],
   "source": [
    "## Model Initialization\n",
    " \n",
    "print(f'Selected Model: {model_widget.value.__name__}')\n",
    "model = model_widget.value(pretrained=True)\n",
    "model.to(device)\n",
    "\n",
    "# Freeze all layers except last\n",
    "for param in model.parameters():\n",
    "    param.requires_grad = False\n",
    "\n",
    "# Create classification layer    \n",
    "num_classes = 2\n",
    "model.fc = torch.nn.Linear(model.fc.in_features, num_classes)\n",
    "# TODO: .fc works for GoogleNet, ResNet only\n",
    "# TODO: Also fix inception because it cant run\n",
    "\n",
    "## Optimizer\n",
    "optimizer = torch.optim.SGD(model.fc.parameters(), lr=0.01, momentum=0.9)\n",
    "\n",
    "## Loss Function\n",
    "loss_fun = torch.nn.CrossEntropyLoss()\n"
   ],
   "metadata": {
    "collapsed": false,
    "ExecuteTime": {
     "end_time": "2023-09-21T10:48:17.219227623Z",
     "start_time": "2023-09-21T10:48:17.011058746Z"
    }
   },
   "id": "91fdafbb67b1c3d2"
  },
  {
   "cell_type": "code",
   "execution_count": 12,
   "outputs": [
    {
     "name": "stderr",
     "output_type": "stream",
     "text": [
      "Epoch 1/1, Training: 100%|██████████| 1024/1024 [02:26<00:00,  7.00it/s]\n",
      "Epoch 1/1, Validation: 100%|██████████| 1024/1024 [02:16<00:00,  7.52it/s]"
     ]
    },
    {
     "name": "stdout",
     "output_type": "stream",
     "text": [
      "Train Loss: 0.9495, Train Acc: 0.7553, Train AUC: 0.8230, \n",
      " Val Loss: 1.0507, Val Acc: 0.7192, Val AUC: 0.8100\n",
      "\n",
      "Saved checkpoint at: models/ResNet_lr01_epoch0.pt\n"
     ]
    },
    {
     "name": "stderr",
     "output_type": "stream",
     "text": [
      "\n"
     ]
    }
   ],
   "source": [
    "train(model, train_loader, val_loader, loss_fun, optimizer, num_epochs=5, num_classes = 2, device=device)"
   ],
   "metadata": {
    "collapsed": false,
    "ExecuteTime": {
     "end_time": "2023-09-21T10:53:00.112400270Z",
     "start_time": "2023-09-21T10:48:17.294583225Z"
    }
   },
   "id": "9a5fc95dcb80dedc"
  },
  {
   "cell_type": "code",
   "execution_count": null,
   "outputs": [],
   "source": [],
   "metadata": {
    "collapsed": false
   },
   "id": "2a92f49a66ac98aa"
  }
 ],
 "metadata": {
  "kernelspec": {
   "display_name": "Python 3",
   "language": "python",
   "name": "python3"
  },
  "language_info": {
   "codemirror_mode": {
    "name": "ipython",
    "version": 2
   },
   "file_extension": ".py",
   "mimetype": "text/x-python",
   "name": "python",
   "nbconvert_exporter": "python",
   "pygments_lexer": "ipython2",
   "version": "2.7.6"
  }
 },
 "nbformat": 4,
 "nbformat_minor": 5
}
