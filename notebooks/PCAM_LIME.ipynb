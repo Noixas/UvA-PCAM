{
  "cells": [
    {
      "cell_type": "markdown",
      "metadata": {
        "id": "b4QAqQL0S_5J"
      },
      "source": [
        "## Requirements Setup"
      ],
      "id": "b4QAqQL0S_5J"
    },
    {
      "cell_type": "code",
      "execution_count": 1,
      "metadata": {
        "colab": {
          "base_uri": "https://localhost:8080/"
        },
        "id": "IiPIo81QN74j",
        "outputId": "d2d1528e-2a92-48ee-ed18-ed2bc1105625"
      },
      "outputs": [
        {
          "output_type": "stream",
          "name": "stdout",
          "text": [
            "Cloning into 'slime'...\n",
            "remote: Enumerating objects: 300, done.\u001b[K\n",
            "remote: Counting objects: 100% (44/44), done.\u001b[K\n",
            "remote: Compressing objects: 100% (34/34), done.\u001b[K\n",
            "remote: Total 300 (delta 24), reused 19 (delta 10), pack-reused 256\u001b[K\n",
            "Receiving objects: 100% (300/300), 3.71 MiB | 7.37 MiB/s, done.\n",
            "Resolving deltas: 100% (142/142), done.\n"
          ]
        }
      ],
      "source": [
        "!git clone https://github.com/joangog/slime.git"
      ],
      "id": "IiPIo81QN74j"
    },
    {
      "cell_type": "code",
      "execution_count": 2,
      "metadata": {
        "colab": {
          "base_uri": "https://localhost:8080/"
        },
        "id": "_ZpreCC9NS46",
        "outputId": "ab813165-af9e-4c7b-fe1d-52704ff35cc7"
      },
      "outputs": [
        {
          "output_type": "stream",
          "name": "stdout",
          "text": [
            "Processing ./slime\n",
            "  Preparing metadata (setup.py) ... \u001b[?25l\u001b[?25hdone\n",
            "Collecting lime (from slime==0.1)\n",
            "  Downloading lime-0.2.0.1.tar.gz (275 kB)\n",
            "\u001b[2K     \u001b[90m━━━━━━━━━━━━━━━━━━━━━━━━━━━━━━━━━━━━━━━━\u001b[0m \u001b[32m275.7/275.7 kB\u001b[0m \u001b[31m5.6 MB/s\u001b[0m eta \u001b[36m0:00:00\u001b[0m\n",
            "\u001b[?25h  Preparing metadata (setup.py) ... \u001b[?25l\u001b[?25hdone\n",
            "Requirement already satisfied: matplotlib in /usr/local/lib/python3.10/dist-packages (from slime==0.1) (3.7.1)\n",
            "Requirement already satisfied: numpy in /usr/local/lib/python3.10/dist-packages (from slime==0.1) (1.23.5)\n",
            "Requirement already satisfied: scipy in /usr/local/lib/python3.10/dist-packages (from slime==0.1) (1.11.3)\n",
            "Requirement already satisfied: tqdm>=4.29.1 in /usr/local/lib/python3.10/dist-packages (from slime==0.1) (4.66.1)\n",
            "Requirement already satisfied: scikit-learn>=0.18 in /usr/local/lib/python3.10/dist-packages (from slime==0.1) (1.2.2)\n",
            "Requirement already satisfied: scikit-image>=0.12 in /usr/local/lib/python3.10/dist-packages (from slime==0.1) (0.19.3)\n",
            "Collecting pyDOE2==1.3.0 (from slime==0.1)\n",
            "  Downloading pyDOE2-1.3.0.tar.gz (19 kB)\n",
            "  Preparing metadata (setup.py) ... \u001b[?25l\u001b[?25hdone\n",
            "Requirement already satisfied: networkx>=2.2 in /usr/local/lib/python3.10/dist-packages (from scikit-image>=0.12->slime==0.1) (3.1)\n",
            "Requirement already satisfied: pillow!=7.1.0,!=7.1.1,!=8.3.0,>=6.1.0 in /usr/local/lib/python3.10/dist-packages (from scikit-image>=0.12->slime==0.1) (9.4.0)\n",
            "Requirement already satisfied: imageio>=2.4.1 in /usr/local/lib/python3.10/dist-packages (from scikit-image>=0.12->slime==0.1) (2.31.5)\n",
            "Requirement already satisfied: tifffile>=2019.7.26 in /usr/local/lib/python3.10/dist-packages (from scikit-image>=0.12->slime==0.1) (2023.9.26)\n",
            "Requirement already satisfied: PyWavelets>=1.1.1 in /usr/local/lib/python3.10/dist-packages (from scikit-image>=0.12->slime==0.1) (1.4.1)\n",
            "Requirement already satisfied: packaging>=20.0 in /usr/local/lib/python3.10/dist-packages (from scikit-image>=0.12->slime==0.1) (23.2)\n",
            "Requirement already satisfied: joblib>=1.1.1 in /usr/local/lib/python3.10/dist-packages (from scikit-learn>=0.18->slime==0.1) (1.3.2)\n",
            "Requirement already satisfied: threadpoolctl>=2.0.0 in /usr/local/lib/python3.10/dist-packages (from scikit-learn>=0.18->slime==0.1) (3.2.0)\n",
            "Requirement already satisfied: contourpy>=1.0.1 in /usr/local/lib/python3.10/dist-packages (from matplotlib->slime==0.1) (1.1.1)\n",
            "Requirement already satisfied: cycler>=0.10 in /usr/local/lib/python3.10/dist-packages (from matplotlib->slime==0.1) (0.12.1)\n",
            "Requirement already satisfied: fonttools>=4.22.0 in /usr/local/lib/python3.10/dist-packages (from matplotlib->slime==0.1) (4.43.1)\n",
            "Requirement already satisfied: kiwisolver>=1.0.1 in /usr/local/lib/python3.10/dist-packages (from matplotlib->slime==0.1) (1.4.5)\n",
            "Requirement already satisfied: pyparsing>=2.3.1 in /usr/local/lib/python3.10/dist-packages (from matplotlib->slime==0.1) (3.1.1)\n",
            "Requirement already satisfied: python-dateutil>=2.7 in /usr/local/lib/python3.10/dist-packages (from matplotlib->slime==0.1) (2.8.2)\n",
            "Requirement already satisfied: six>=1.5 in /usr/local/lib/python3.10/dist-packages (from python-dateutil>=2.7->matplotlib->slime==0.1) (1.16.0)\n",
            "Building wheels for collected packages: slime, pyDOE2, lime\n",
            "  Building wheel for slime (setup.py) ... \u001b[?25l\u001b[?25hdone\n",
            "  Created wheel for slime: filename=slime-0.1-py3-none-any.whl size=292586 sha256=5a77927a2b1c3e57f40800e9598a94885626055ce2d8b006febb517a61586de5\n",
            "  Stored in directory: /tmp/pip-ephem-wheel-cache-ljlh2l8v/wheels/9b/75/5b/fac9c5df9eeea7a76d780065b015816b90fcbe92ded3360a0c\n",
            "  Building wheel for pyDOE2 (setup.py) ... \u001b[?25l\u001b[?25hdone\n",
            "  Created wheel for pyDOE2: filename=pyDOE2-1.3.0-py3-none-any.whl size=25521 sha256=425f5360d644c1b51e52ea94b79a023302a56acf5b5d34c113b2af48818204c9\n",
            "  Stored in directory: /root/.cache/pip/wheels/46/1f/29/6fda5c72f950841e39147ae603780ee913a62f977b4ad47ee4\n",
            "  Building wheel for lime (setup.py) ... \u001b[?25l\u001b[?25hdone\n",
            "  Created wheel for lime: filename=lime-0.2.0.1-py3-none-any.whl size=283834 sha256=43a4e500f4e2da22d5b5c88d0369b01ed1726f7ffc949a3b994a62c22f46c68b\n",
            "  Stored in directory: /root/.cache/pip/wheels/fd/a2/af/9ac0a1a85a27f314a06b39e1f492bee1547d52549a4606ed89\n",
            "Successfully built slime pyDOE2 lime\n",
            "Installing collected packages: pyDOE2, lime, slime\n",
            "Successfully installed lime-0.2.0.1 pyDOE2-1.3.0 slime-0.1\n"
          ]
        }
      ],
      "source": [
        "!pip install '/content/slime'"
      ],
      "id": "_ZpreCC9NS46"
    },
    {
      "cell_type": "code",
      "execution_count": 3,
      "metadata": {
        "id": "bfc632aa"
      },
      "outputs": [],
      "source": [
        "import numpy as np\n",
        "import matplotlib.pyplot as plt\n",
        "import torch\n",
        "import torch.nn.functional as F\n",
        "from torchvision import models, transforms, datasets\n",
        "import cv2\n",
        "import json\n",
        "import glob\n",
        "import skimage\n",
        "\n",
        "from slime import lime_image"
      ],
      "id": "bfc632aa"
    },
    {
      "cell_type": "code",
      "execution_count": 4,
      "metadata": {
        "colab": {
          "base_uri": "https://localhost:8080/"
        },
        "id": "PJP6zWmAjyuX",
        "outputId": "cdbd25ae-26dd-4333-8e06-5dedbf4ef021"
      },
      "outputs": [
        {
          "output_type": "stream",
          "name": "stdout",
          "text": [
            "Mounted at /content/gdrive\n"
          ]
        }
      ],
      "source": [
        "from google.colab import drive\n",
        "drive.mount('/content/gdrive')"
      ],
      "id": "PJP6zWmAjyuX"
    },
    {
      "cell_type": "code",
      "execution_count": 5,
      "metadata": {
        "colab": {
          "base_uri": "https://localhost:8080/"
        },
        "id": "t_J2XCB9mWpY",
        "outputId": "b80cd8fe-987c-4c78-d29f-80fc95c51253"
      },
      "outputs": [
        {
          "output_type": "stream",
          "name": "stdout",
          "text": [
            "cuda: True device: cuda:0\n"
          ]
        }
      ],
      "source": [
        "cuda = torch.cuda.is_available()\n",
        "device = torch.device(\"cuda:0\" if torch.cuda.is_available() else \"cpu\")\n",
        "print('cuda:', cuda, 'device:', device)"
      ],
      "id": "t_J2XCB9mWpY"
    },
    {
      "cell_type": "markdown",
      "metadata": {
        "id": "8DXu9MNtTLhT"
      },
      "source": [
        "## Load Dataset"
      ],
      "id": "8DXu9MNtTLhT"
    },
    {
      "cell_type": "code",
      "execution_count": 86,
      "metadata": {
        "id": "0a78KRHzYWLA"
      },
      "outputs": [],
      "source": [
        "# Image handling functions\n",
        "\n",
        "def read_img(file_name):\n",
        "  img = cv2.imread(file_name)\n",
        "  if (type(img) is np.ndarray):\n",
        "    img = cv2.resize(img, (224, 224))\n",
        "    img = img.astype(np.float32)\n",
        "    # img = np.asarray(img)\n",
        "    img = img[:, :, (2, 1, 0)]\n",
        "  else:\n",
        "    print('image not found - set your path to the image')\n",
        "  return img\n",
        "\n",
        "\n",
        "def preprocess(obs, cuda):\n",
        "\n",
        "    if cuda:\n",
        "        torch_device = torch.device('cuda:0')\n",
        "    else:\n",
        "        torch_device = torch.device('cpu')\n",
        "\n",
        "    print(type(obs))\n",
        "    cv2.cvtColor(obs, cv2.COLOR_BGR2GRAY)\n",
        "    obs = torch.Tensor(np.asarray(obs))\n",
        "\n",
        "    # Normalise for ImageNet\n",
        "    # mean = np.array([0.485, 0.456, 0.406]).reshape([1, 1, 3])\n",
        "    # std = np.array([0.229, 0.224, 0.225]).reshape([1, 1, 3])\n",
        "    # obs = obs / 255\n",
        "    # obs = (obs - mean) / std\n",
        "\n",
        "    # Format properly\n",
        "    # if obs.ndim == 4:\n",
        "    #   obs = np.transpose(obs, (0, 3, 1, 2))\n",
        "    # elif obs.ndim == 3:\n",
        "    #   obs = np.transpose(obs, (2, 0, 1))\n",
        "    #   obs = np.expand_dims(obs, 0)\n",
        "    # obs = np.array(obs)\n",
        "    # obs_tensor = torch.tensor(obs, dtype=torch.float32, device=torch_device)\n",
        "\n",
        "    return x"
      ],
      "id": "0a78KRHzYWLA"
    },
    {
      "cell_type": "code",
      "execution_count": 87,
      "metadata": {
        "colab": {
          "base_uri": "https://localhost:8080/"
        },
        "id": "139affaf",
        "outputId": "9c1a46fe-e2b2-4163-e5b3-67349e369dd0"
      },
      "outputs": [
        {
          "output_type": "execute_result",
          "data": {
            "text/plain": [
              "VGG(\n",
              "  (features): Sequential(\n",
              "    (0): Conv2d(3, 64, kernel_size=(3, 3), stride=(1, 1), padding=(1, 1))\n",
              "    (1): ReLU(inplace=True)\n",
              "    (2): Conv2d(64, 64, kernel_size=(3, 3), stride=(1, 1), padding=(1, 1))\n",
              "    (3): ReLU(inplace=True)\n",
              "    (4): MaxPool2d(kernel_size=2, stride=2, padding=0, dilation=1, ceil_mode=False)\n",
              "    (5): Conv2d(64, 128, kernel_size=(3, 3), stride=(1, 1), padding=(1, 1))\n",
              "    (6): ReLU(inplace=True)\n",
              "    (7): Conv2d(128, 128, kernel_size=(3, 3), stride=(1, 1), padding=(1, 1))\n",
              "    (8): ReLU(inplace=True)\n",
              "    (9): MaxPool2d(kernel_size=2, stride=2, padding=0, dilation=1, ceil_mode=False)\n",
              "    (10): Conv2d(128, 256, kernel_size=(3, 3), stride=(1, 1), padding=(1, 1))\n",
              "    (11): ReLU(inplace=True)\n",
              "    (12): Conv2d(256, 256, kernel_size=(3, 3), stride=(1, 1), padding=(1, 1))\n",
              "    (13): ReLU(inplace=True)\n",
              "    (14): Conv2d(256, 256, kernel_size=(3, 3), stride=(1, 1), padding=(1, 1))\n",
              "    (15): ReLU(inplace=True)\n",
              "    (16): Conv2d(256, 256, kernel_size=(3, 3), stride=(1, 1), padding=(1, 1))\n",
              "    (17): ReLU(inplace=True)\n",
              "    (18): MaxPool2d(kernel_size=2, stride=2, padding=0, dilation=1, ceil_mode=False)\n",
              "    (19): Conv2d(256, 512, kernel_size=(3, 3), stride=(1, 1), padding=(1, 1))\n",
              "    (20): ReLU(inplace=True)\n",
              "    (21): Conv2d(512, 512, kernel_size=(3, 3), stride=(1, 1), padding=(1, 1))\n",
              "    (22): ReLU(inplace=True)\n",
              "    (23): Conv2d(512, 512, kernel_size=(3, 3), stride=(1, 1), padding=(1, 1))\n",
              "    (24): ReLU(inplace=True)\n",
              "    (25): Conv2d(512, 512, kernel_size=(3, 3), stride=(1, 1), padding=(1, 1))\n",
              "    (26): ReLU(inplace=True)\n",
              "    (27): MaxPool2d(kernel_size=2, stride=2, padding=0, dilation=1, ceil_mode=False)\n",
              "    (28): Conv2d(512, 512, kernel_size=(3, 3), stride=(1, 1), padding=(1, 1))\n",
              "    (29): ReLU(inplace=True)\n",
              "    (30): Conv2d(512, 512, kernel_size=(3, 3), stride=(1, 1), padding=(1, 1))\n",
              "    (31): ReLU(inplace=True)\n",
              "    (32): Conv2d(512, 512, kernel_size=(3, 3), stride=(1, 1), padding=(1, 1))\n",
              "    (33): ReLU(inplace=True)\n",
              "    (34): Conv2d(512, 512, kernel_size=(3, 3), stride=(1, 1), padding=(1, 1))\n",
              "    (35): ReLU(inplace=True)\n",
              "    (36): MaxPool2d(kernel_size=2, stride=2, padding=0, dilation=1, ceil_mode=False)\n",
              "  )\n",
              "  (avgpool): AdaptiveAvgPool2d(output_size=(7, 7))\n",
              "  (classifier): Sequential(\n",
              "    (0): Linear(in_features=25088, out_features=4096, bias=True)\n",
              "    (1): ReLU(inplace=True)\n",
              "    (2): Dropout(p=0.5, inplace=False)\n",
              "    (3): Linear(in_features=4096, out_features=4096, bias=True)\n",
              "    (4): ReLU(inplace=True)\n",
              "    (5): Dropout(p=0.5, inplace=False)\n",
              "    (6): Linear(in_features=4096, out_features=1000, bias=True)\n",
              "  )\n",
              ")"
            ]
          },
          "metadata": {},
          "execution_count": 87
        }
      ],
      "source": [
        "# Load images\n",
        "# imgs = [read_img(img_path) for img_path in glob.glob(\"/content/gdrive/MyDrive/SLIME/images/husky/*\")]\n",
        "# img = read_img('/content/gdrive/MyDrive/SLIME/images/husky/husky_6.jpg')\n",
        "\n",
        "imgs = [read_img(img_path) for img_path in glob.glob(\"/content/gdrive/MyDrive/PCAM imgs/*.png\")]\n",
        "img = read_img('/content/gdrive/MyDrive/PCAM imgs/img10.png')\n",
        "\n",
        "# Load ImageNet labels\n",
        "with open('/content/gdrive/MyDrive/SLIME/labels.json') as f:\n",
        "  label_data = json.load(f)\n",
        "\n",
        "# Load classifier\n",
        "model = models.vgg19(weights=models.VGG19_Weights.DEFAULT)\n",
        "model = model.to(device)\n",
        "model.eval()"
      ],
      "id": "139affaf"
    },
    {
      "cell_type": "markdown",
      "metadata": {
        "id": "eCf3upx7TT-X"
      },
      "source": [
        "## Explanation Generation"
      ],
      "id": "eCf3upx7TT-X"
    },
    {
      "cell_type": "code",
      "execution_count": 88,
      "metadata": {
        "id": "Nv5HeaiJY5UD"
      },
      "outputs": [],
      "source": [
        "# Helper functions for S-LIME\n",
        "\n",
        "def predict(input, model, cuda):\n",
        "  output = model(input)\n",
        "  output = F.softmax(output, dim=1)\n",
        "  return output\n",
        "\n",
        "\n",
        "def vgg19_predict(input):\n",
        "  input = preprocess(input, cuda)  # cuda from outer scope\n",
        "  output = predict(input, model, cuda)  # model from outer scope\n",
        "  output = np.array(output.detach().cpu())\n",
        "  return output\n",
        "\n",
        "\n",
        "def explain_top_labels(img_explanations, lime_type):\n",
        "\n",
        "  if type(img_explanations).__name__ != 'list':  # If not list and just one element, convert to 1-element list\n",
        "    img_explanations = [img_explanations]\n",
        "\n",
        "  fig, axs = plt.subplots(len(img_explanations),len(img_explanations[0].score))\n",
        "  if lime_type == 'lime':\n",
        "    fig.suptitle('LIME Explanations',  y=0.96, size='xx-large')\n",
        "  elif lime_type == 'slime':\n",
        "    fig.suptitle('S-LIME Explanations', y=0.96, size='xx-large')\n",
        "  fig.set_figheight(3*len(img_explanations))\n",
        "  fig.set_figwidth(15)\n",
        "\n",
        "  for i, img_explanation in enumerate(img_explanations):\n",
        "\n",
        "    print(f'Seed {i+1}:')\n",
        "\n",
        "    # Sort labels based on score\n",
        "    topk_labels = sorted(img_explanation.score.items(), key=lambda x:x[1], reverse=True)\n",
        "    k = len(topk_labels)\n",
        "\n",
        "    # Get masked image for each label\n",
        "    masked_imgs = []\n",
        "    for j in range(0,k):\n",
        "      img, mask = img_explanation.get_image_and_mask(topk_labels[j][0])\n",
        "      mask = np.expand_dims(mask, axis=-1).repeat(3, axis=-1) == 1\n",
        "      masked_img = np.full(img.shape, (234,249,255))\n",
        "      masked_img[mask] = img[mask]\n",
        "      masked_imgs.append(masked_img)\n",
        "\n",
        "    print(f'   Top-{k} Labels Predicted:')\n",
        "    for l, label in enumerate(topk_labels):\n",
        "      print(f'      {l+1}th Class: \"{label_data[str(label[0])][1]}\", Score: {round(label[1],2)}')\n",
        "    print()\n",
        "\n",
        "\n",
        "    # Plot the masked images for each label and for each explanation\n",
        "\n",
        "    for j in range(0,k):\n",
        "      if len(img_explanations) == 1:\n",
        "        axs_i = axs\n",
        "      else:\n",
        "        axs_i = axs[i]\n",
        "\n",
        "      axs_i[0].text(-25, 90, f'Seed {i+1}', rotation='vertical', va='center')\n",
        "      axs_i[j].imshow(masked_imgs[j] / 255)\n",
        "      axs_i[j].set_title(f'#{j+1} : \"{label_data[str(topk_labels[j][0])][1]}\"')\n",
        "      axs_i[j].axis('off')\n",
        "      axs_i[j].spines['top'].set_visible(True)\n",
        "      axs_i[j].spines['bottom'].set_visible(True)\n",
        "      axs_i[j].spines['left'].set_visible(True)\n",
        "      axs_i[j].spines['right'].set_visible(True)\n",
        "\n",
        "  # Plot the original image and the segments (only once, from the first seed)\n",
        "  fig_, axs_ = plt.subplots(1,2)\n",
        "  fig_.set_figheight(3)\n",
        "  fig_.set_figwidth(6)\n",
        "  axs_[0].set_title('Original')\n",
        "  axs_[0].imshow(img / 255)\n",
        "  axs_[1].set_title('Features (Superpixels)')\n",
        "  axs_[1].imshow(skimage.segmentation.mark_boundaries(img/255, img_explanations[0].segments))\n",
        "\n",
        "  for j in [0,1]:\n",
        "    axs_[j].axis('off')\n",
        "    axs_[j].spines['top'].set_visible(True)\n",
        "    axs_[j].spines['bottom'].set_visible(True)\n",
        "    axs_[j].spines['left'].set_visible(True)\n",
        "    axs_[j].spines['right'].set_visible(True)\n",
        "\n",
        "\n",
        "def calculate_jaccard(num_seeds, num_iter, top_labels, top_features, imgs, explainer, labal_data, lime_type, num_samples):\n",
        "\n",
        "  result = np.zeros((top_labels,num_seeds,num_iter,top_features))\n",
        "  jaccard = np.zeros((top_labels, num_seeds, top_features))\n",
        "\n",
        "  for seed in range(num_seeds):\n",
        "\n",
        "    np.random.seed(seed + 1)\n",
        "\n",
        "    i = np.random.randint(0, len(imgs))  # We randomly select an image in every seed (Maybe fix?)\n",
        "\n",
        "    for iter in range(num_iter):\n",
        "      print(f'Seed {seed + 1} (Image {i}), Iteration {iter}')\n",
        "      if lime_type == 'lime':\n",
        "        exp = explainer.explain_instance(imgs[i], vgg19_predict, num_features=top_features, num_samples=num_samples, random_seed=seed)\n",
        "      elif  lime_type == 'slime':\n",
        "        exp = explainer.slime(imgs[i], vgg19_predict, num_features=top_features, num_samples=num_samples, random_seed=seed)\n",
        "      topk_labels_scores = sorted(exp.score.items(), key=lambda x:x[1], reverse=True)\n",
        "      for topk in range(top_labels):\n",
        "        topk_label = topk_labels_scores[topk][0]\n",
        "        result[topk,seed,iter,:] = [i[0] for i in exp.local_exp[topk_label]]\n",
        "\n",
        "    for topk in range(top_labels):\n",
        "      for num in range(0, top_features):\n",
        "          temp = []\n",
        "          for j in range(num_iter - 1):\n",
        "              for k in range(j + 1, num_iter):\n",
        "                A = result[topk,seed,j,:num+1]\n",
        "                B = result[topk,seed,k,:num+1]\n",
        "                temp.append(len(set(A).intersection(set(B))) / float(len(set(A).union(set(B)))))\n",
        "          jaccard[topk,seed,num] = np.mean(temp)\n",
        "\n",
        "  jaccard = np.mean(jaccard, axis = 1)\n",
        "\n",
        "  print()\n",
        "  for k_l in range(1,6):\n",
        "    print(f'{k_l}th Predicted Class:')\n",
        "    for k_f in range(1,6):\n",
        "      print(f'   Using Top-{k_f} Features: {round(jaccard[k_l-1,k_f-1],2)}')\n",
        "\n",
        "  return jaccard"
      ],
      "id": "Nv5HeaiJY5UD"
    },
    {
      "cell_type": "markdown",
      "metadata": {
        "id": "zCtmorg34m0o"
      },
      "source": [
        "### Hyperparameters"
      ],
      "id": "zCtmorg34m0o"
    },
    {
      "cell_type": "code",
      "execution_count": 89,
      "metadata": {
        "id": "1yb0g6LBSvuH"
      },
      "outputs": [],
      "source": [
        "# Hyperparameters\n",
        "\n",
        "num_samples = 150  # Number of samples to take around each data point\n",
        "top_features = 70   # Top-k superpixels in explanation\n",
        "top_labels = 5  # Top-k labels to produce explanations for\n",
        "\n",
        "# For Jaccard experiment\n",
        "num_seeds = 3\n",
        "num_iter = 3"
      ],
      "id": "1yb0g6LBSvuH"
    },
    {
      "cell_type": "markdown",
      "metadata": {
        "id": "4344f93f"
      },
      "source": [
        "### LIME results"
      ],
      "id": "4344f93f"
    },
    {
      "cell_type": "code",
      "execution_count": 90,
      "metadata": {
        "colab": {
          "base_uri": "https://localhost:8080/",
          "height": 579,
          "referenced_widgets": [
            "b22f0f5d4e56409f80d90ebf47842f68",
            "5c3005759bec4b9c952b289816b60c9d",
            "fb1c8a0424dc4a5a9430982810cde072",
            "5d224ef575ec4dbf8b46e02cf1797e75",
            "9f7d484a342f48f6a7e9d6707009f895",
            "4b9bb791b83a495799b833b9117a1b45",
            "8caa1dda72654bcfa22c392534ffcd61",
            "c62d1b8fb9954b4db3fffb1b7cdecc82",
            "ed749036bda84fc1b2a21c23955303a7",
            "70963407dd294421a022fa2d404c5bb5",
            "7aed643fb31a4a5fa082f3264256b9f6"
          ]
        },
        "id": "598276a8",
        "outputId": "5cfbd9f1-a677-4042-c11d-e428d94597f4"
      },
      "outputs": [
        {
          "output_type": "stream",
          "name": "stdout",
          "text": [
            "Seed 1:\n"
          ]
        },
        {
          "output_type": "display_data",
          "data": {
            "text/plain": [
              "  0%|          | 0/150 [00:00<?, ?it/s]"
            ],
            "application/vnd.jupyter.widget-view+json": {
              "version_major": 2,
              "version_minor": 0,
              "model_id": "b22f0f5d4e56409f80d90ebf47842f68"
            }
          },
          "metadata": {}
        },
        {
          "output_type": "stream",
          "name": "stdout",
          "text": [
            "<class 'numpy.ndarray'>\n"
          ]
        },
        {
          "output_type": "error",
          "ename": "error",
          "evalue": "ignored",
          "traceback": [
            "\u001b[0;31m---------------------------------------------------------------------------\u001b[0m",
            "\u001b[0;31merror\u001b[0m                                     Traceback (most recent call last)",
            "\u001b[0;32m<ipython-input-90-55e8f41d432b>\u001b[0m in \u001b[0;36m<cell line: 6>\u001b[0;34m()\u001b[0m\n\u001b[1;32m      7\u001b[0m   \u001b[0mprint\u001b[0m\u001b[0;34m(\u001b[0m\u001b[0;34mf'Seed {seed}:'\u001b[0m\u001b[0;34m)\u001b[0m\u001b[0;34m\u001b[0m\u001b[0;34m\u001b[0m\u001b[0m\n\u001b[1;32m      8\u001b[0m   \u001b[0mnp\u001b[0m\u001b[0;34m.\u001b[0m\u001b[0mrandom\u001b[0m\u001b[0;34m.\u001b[0m\u001b[0mseed\u001b[0m\u001b[0;34m(\u001b[0m\u001b[0mseed\u001b[0m\u001b[0;34m)\u001b[0m\u001b[0;34m\u001b[0m\u001b[0;34m\u001b[0m\u001b[0m\n\u001b[0;32m----> 9\u001b[0;31m   \u001b[0mexplanations_lime\u001b[0m\u001b[0;34m.\u001b[0m\u001b[0mappend\u001b[0m\u001b[0;34m(\u001b[0m\u001b[0mexplainer\u001b[0m\u001b[0;34m.\u001b[0m\u001b[0mexplain_instance\u001b[0m\u001b[0;34m(\u001b[0m\u001b[0mimg\u001b[0m\u001b[0;34m,\u001b[0m \u001b[0mvgg19_predict\u001b[0m\u001b[0;34m,\u001b[0m \u001b[0mlabels\u001b[0m\u001b[0;34m=\u001b[0m\u001b[0mtuple\u001b[0m\u001b[0;34m(\u001b[0m\u001b[0;34m[\u001b[0m\u001b[0mi\u001b[0m \u001b[0;32mfor\u001b[0m \u001b[0mi\u001b[0m \u001b[0;32min\u001b[0m \u001b[0mrange\u001b[0m\u001b[0;34m(\u001b[0m\u001b[0mtop_labels\u001b[0m\u001b[0;34m)\u001b[0m\u001b[0;34m]\u001b[0m\u001b[0;34m)\u001b[0m\u001b[0;34m,\u001b[0m \u001b[0mtop_labels\u001b[0m\u001b[0;34m=\u001b[0m\u001b[0mtop_labels\u001b[0m\u001b[0;34m,\u001b[0m \u001b[0mnum_features\u001b[0m \u001b[0;34m=\u001b[0m \u001b[0mtop_features\u001b[0m\u001b[0;34m,\u001b[0m \u001b[0mnum_samples\u001b[0m \u001b[0;34m=\u001b[0m \u001b[0mnum_samples\u001b[0m\u001b[0;34m,\u001b[0m \u001b[0mrandom_seed\u001b[0m\u001b[0;34m=\u001b[0m\u001b[0mseed\u001b[0m\u001b[0;34m)\u001b[0m\u001b[0;34m)\u001b[0m\u001b[0;34m\u001b[0m\u001b[0;34m\u001b[0m\u001b[0m\n\u001b[0m\u001b[1;32m     10\u001b[0m \u001b[0mexplain_top_labels\u001b[0m\u001b[0;34m(\u001b[0m\u001b[0mexplanations_lime\u001b[0m\u001b[0;34m,\u001b[0m \u001b[0;34m'lime'\u001b[0m\u001b[0;34m)\u001b[0m\u001b[0;34m\u001b[0m\u001b[0;34m\u001b[0m\u001b[0m\n",
            "\u001b[0;32m/usr/local/lib/python3.10/dist-packages/slime/lime_image.py\u001b[0m in \u001b[0;36mexplain_instance\u001b[0;34m(self, image, classifier_fn, labels, hide_color, top_labels, num_features, num_samples, batch_size, segmentation_fn, distance_metric, model_regressor, random_seed, progress_bar)\u001b[0m\n\u001b[1;32m    198\u001b[0m         \u001b[0mtop\u001b[0m \u001b[0;34m=\u001b[0m \u001b[0mlabels\u001b[0m\u001b[0;34m\u001b[0m\u001b[0;34m\u001b[0m\u001b[0m\n\u001b[1;32m    199\u001b[0m \u001b[0;34m\u001b[0m\u001b[0m\n\u001b[0;32m--> 200\u001b[0;31m         data, labels = self.data_labels(image, fudged_image, segments,\n\u001b[0m\u001b[1;32m    201\u001b[0m                                         \u001b[0mclassifier_fn\u001b[0m\u001b[0;34m,\u001b[0m \u001b[0mnum_samples\u001b[0m\u001b[0;34m,\u001b[0m\u001b[0;34m\u001b[0m\u001b[0;34m\u001b[0m\u001b[0m\n\u001b[1;32m    202\u001b[0m                                         \u001b[0mbatch_size\u001b[0m\u001b[0;34m=\u001b[0m\u001b[0mbatch_size\u001b[0m\u001b[0;34m,\u001b[0m\u001b[0;34m\u001b[0m\u001b[0;34m\u001b[0m\u001b[0m\n",
            "\u001b[0;32m/usr/local/lib/python3.10/dist-packages/slime/lime_image.py\u001b[0m in \u001b[0;36mdata_labels\u001b[0;34m(self, image, fudged_image, segments, classifier_fn, num_samples, batch_size, progress_bar)\u001b[0m\n\u001b[1;32m    367\u001b[0m             \u001b[0mimgs\u001b[0m\u001b[0;34m.\u001b[0m\u001b[0mappend\u001b[0m\u001b[0;34m(\u001b[0m\u001b[0mtemp\u001b[0m\u001b[0;34m)\u001b[0m\u001b[0;34m\u001b[0m\u001b[0;34m\u001b[0m\u001b[0m\n\u001b[1;32m    368\u001b[0m             \u001b[0;32mif\u001b[0m \u001b[0mlen\u001b[0m\u001b[0;34m(\u001b[0m\u001b[0mimgs\u001b[0m\u001b[0;34m)\u001b[0m \u001b[0;34m==\u001b[0m \u001b[0mbatch_size\u001b[0m\u001b[0;34m:\u001b[0m\u001b[0;34m\u001b[0m\u001b[0;34m\u001b[0m\u001b[0m\n\u001b[0;32m--> 369\u001b[0;31m                 \u001b[0mpreds\u001b[0m \u001b[0;34m=\u001b[0m \u001b[0mclassifier_fn\u001b[0m\u001b[0;34m(\u001b[0m\u001b[0mnp\u001b[0m\u001b[0;34m.\u001b[0m\u001b[0marray\u001b[0m\u001b[0;34m(\u001b[0m\u001b[0mimgs\u001b[0m\u001b[0;34m)\u001b[0m\u001b[0;34m)\u001b[0m\u001b[0;34m\u001b[0m\u001b[0;34m\u001b[0m\u001b[0m\n\u001b[0m\u001b[1;32m    370\u001b[0m                 \u001b[0mlabels\u001b[0m\u001b[0;34m.\u001b[0m\u001b[0mextend\u001b[0m\u001b[0;34m(\u001b[0m\u001b[0mpreds\u001b[0m\u001b[0;34m)\u001b[0m\u001b[0;34m\u001b[0m\u001b[0;34m\u001b[0m\u001b[0m\n\u001b[1;32m    371\u001b[0m                 \u001b[0mimgs\u001b[0m \u001b[0;34m=\u001b[0m \u001b[0;34m[\u001b[0m\u001b[0;34m]\u001b[0m\u001b[0;34m\u001b[0m\u001b[0;34m\u001b[0m\u001b[0m\n",
            "\u001b[0;32m<ipython-input-88-763ccd892d66>\u001b[0m in \u001b[0;36mvgg19_predict\u001b[0;34m(input)\u001b[0m\n\u001b[1;32m      8\u001b[0m \u001b[0;34m\u001b[0m\u001b[0m\n\u001b[1;32m      9\u001b[0m \u001b[0;32mdef\u001b[0m \u001b[0mvgg19_predict\u001b[0m\u001b[0;34m(\u001b[0m\u001b[0minput\u001b[0m\u001b[0;34m)\u001b[0m\u001b[0;34m:\u001b[0m\u001b[0;34m\u001b[0m\u001b[0;34m\u001b[0m\u001b[0m\n\u001b[0;32m---> 10\u001b[0;31m   \u001b[0minput\u001b[0m \u001b[0;34m=\u001b[0m \u001b[0mpreprocess\u001b[0m\u001b[0;34m(\u001b[0m\u001b[0minput\u001b[0m\u001b[0;34m,\u001b[0m \u001b[0mcuda\u001b[0m\u001b[0;34m)\u001b[0m  \u001b[0;31m# cuda from outer scope\u001b[0m\u001b[0;34m\u001b[0m\u001b[0;34m\u001b[0m\u001b[0m\n\u001b[0m\u001b[1;32m     11\u001b[0m   \u001b[0moutput\u001b[0m \u001b[0;34m=\u001b[0m \u001b[0mpredict\u001b[0m\u001b[0;34m(\u001b[0m\u001b[0minput\u001b[0m\u001b[0;34m,\u001b[0m \u001b[0mmodel\u001b[0m\u001b[0;34m,\u001b[0m \u001b[0mcuda\u001b[0m\u001b[0;34m)\u001b[0m  \u001b[0;31m# model from outer scope\u001b[0m\u001b[0;34m\u001b[0m\u001b[0;34m\u001b[0m\u001b[0m\n\u001b[1;32m     12\u001b[0m   \u001b[0moutput\u001b[0m \u001b[0;34m=\u001b[0m \u001b[0mnp\u001b[0m\u001b[0;34m.\u001b[0m\u001b[0marray\u001b[0m\u001b[0;34m(\u001b[0m\u001b[0moutput\u001b[0m\u001b[0;34m.\u001b[0m\u001b[0mdetach\u001b[0m\u001b[0;34m(\u001b[0m\u001b[0;34m)\u001b[0m\u001b[0;34m.\u001b[0m\u001b[0mcpu\u001b[0m\u001b[0;34m(\u001b[0m\u001b[0;34m)\u001b[0m\u001b[0;34m)\u001b[0m\u001b[0;34m\u001b[0m\u001b[0;34m\u001b[0m\u001b[0m\n",
            "\u001b[0;32m<ipython-input-86-d79d83c2d830>\u001b[0m in \u001b[0;36mpreprocess\u001b[0;34m(obs, cuda)\u001b[0m\n\u001b[1;32m     21\u001b[0m \u001b[0;34m\u001b[0m\u001b[0m\n\u001b[1;32m     22\u001b[0m     \u001b[0mprint\u001b[0m\u001b[0;34m(\u001b[0m\u001b[0mtype\u001b[0m\u001b[0;34m(\u001b[0m\u001b[0mobs\u001b[0m\u001b[0;34m)\u001b[0m\u001b[0;34m)\u001b[0m\u001b[0;34m\u001b[0m\u001b[0;34m\u001b[0m\u001b[0m\n\u001b[0;32m---> 23\u001b[0;31m     \u001b[0mcv2\u001b[0m\u001b[0;34m.\u001b[0m\u001b[0mcvtColor\u001b[0m\u001b[0;34m(\u001b[0m\u001b[0mobs\u001b[0m\u001b[0;34m,\u001b[0m \u001b[0mcv2\u001b[0m\u001b[0;34m.\u001b[0m\u001b[0mCOLOR_BGR2GRAY\u001b[0m\u001b[0;34m)\u001b[0m\u001b[0;34m\u001b[0m\u001b[0;34m\u001b[0m\u001b[0m\n\u001b[0m\u001b[1;32m     24\u001b[0m     \u001b[0mobs\u001b[0m \u001b[0;34m=\u001b[0m \u001b[0mtorch\u001b[0m\u001b[0;34m.\u001b[0m\u001b[0mTensor\u001b[0m\u001b[0;34m(\u001b[0m\u001b[0mnp\u001b[0m\u001b[0;34m.\u001b[0m\u001b[0masarray\u001b[0m\u001b[0;34m(\u001b[0m\u001b[0mobs\u001b[0m\u001b[0;34m)\u001b[0m\u001b[0;34m)\u001b[0m\u001b[0;34m\u001b[0m\u001b[0;34m\u001b[0m\u001b[0m\n\u001b[1;32m     25\u001b[0m \u001b[0;34m\u001b[0m\u001b[0m\n",
            "\u001b[0;31merror\u001b[0m: OpenCV(4.8.0) /io/opencv/modules/imgproc/src/color.simd_helpers.hpp:92: error: (-2:Unspecified error) in function 'cv::impl::{anonymous}::CvtHelper<VScn, VDcn, VDepth, sizePolicy>::CvtHelper(cv::InputArray, cv::OutputArray, int) [with VScn = cv::impl::{anonymous}::Set<3, 4>; VDcn = cv::impl::{anonymous}::Set<1>; VDepth = cv::impl::{anonymous}::Set<0, 2, 5>; cv::impl::{anonymous}::SizePolicy sizePolicy = cv::impl::<unnamed>::NONE; cv::InputArray = const cv::_InputArray&; cv::OutputArray = const cv::_OutputArray&]'\n> Invalid number of channels in input image:\n>     'VScn::contains(scn)'\n> where\n>     'scn' is 1\n"
          ]
        }
      ],
      "source": [
        "seeds = [1,2,3]\n",
        "explanations_lime = []\n",
        "\n",
        "explainer = lime_image.LimeImageExplainer(feature_selection = \"lasso_path\")\n",
        "\n",
        "for seed in seeds:\n",
        "  print(f'Seed {seed}:')\n",
        "  np.random.seed(seed)\n",
        "  explanations_lime.append(explainer.explain_instance(img, vgg19_predict, labels=tuple([i for i in range(top_labels)]), top_labels=top_labels, num_features = top_features, num_samples = num_samples, random_seed=seed))\n",
        "explain_top_labels(explanations_lime, 'lime')"
      ],
      "id": "598276a8"
    },
    {
      "cell_type": "code",
      "execution_count": null,
      "metadata": {
        "id": "rPsmlXdA6cGw"
      },
      "outputs": [],
      "source": [],
      "id": "rPsmlXdA6cGw"
    }
  ],
  "metadata": {
    "accelerator": "GPU",
    "colab": {
      "provenance": []
    },
    "kernelspec": {
      "display_name": "Python 3",
      "name": "python3"
    },
    "language_info": {
      "codemirror_mode": {
        "name": "ipython",
        "version": 3
      },
      "file_extension": ".py",
      "mimetype": "text/x-python",
      "name": "python",
      "nbconvert_exporter": "python",
      "pygments_lexer": "ipython3",
      "version": "3.9.5"
    },
    "widgets": {
      "application/vnd.jupyter.widget-state+json": {
        "b22f0f5d4e56409f80d90ebf47842f68": {
          "model_module": "@jupyter-widgets/controls",
          "model_name": "HBoxModel",
          "model_module_version": "1.5.0",
          "state": {
            "_dom_classes": [],
            "_model_module": "@jupyter-widgets/controls",
            "_model_module_version": "1.5.0",
            "_model_name": "HBoxModel",
            "_view_count": null,
            "_view_module": "@jupyter-widgets/controls",
            "_view_module_version": "1.5.0",
            "_view_name": "HBoxView",
            "box_style": "",
            "children": [
              "IPY_MODEL_5c3005759bec4b9c952b289816b60c9d",
              "IPY_MODEL_fb1c8a0424dc4a5a9430982810cde072",
              "IPY_MODEL_5d224ef575ec4dbf8b46e02cf1797e75"
            ],
            "layout": "IPY_MODEL_9f7d484a342f48f6a7e9d6707009f895"
          }
        },
        "5c3005759bec4b9c952b289816b60c9d": {
          "model_module": "@jupyter-widgets/controls",
          "model_name": "HTMLModel",
          "model_module_version": "1.5.0",
          "state": {
            "_dom_classes": [],
            "_model_module": "@jupyter-widgets/controls",
            "_model_module_version": "1.5.0",
            "_model_name": "HTMLModel",
            "_view_count": null,
            "_view_module": "@jupyter-widgets/controls",
            "_view_module_version": "1.5.0",
            "_view_name": "HTMLView",
            "description": "",
            "description_tooltip": null,
            "layout": "IPY_MODEL_4b9bb791b83a495799b833b9117a1b45",
            "placeholder": "​",
            "style": "IPY_MODEL_8caa1dda72654bcfa22c392534ffcd61",
            "value": "  6%"
          }
        },
        "fb1c8a0424dc4a5a9430982810cde072": {
          "model_module": "@jupyter-widgets/controls",
          "model_name": "FloatProgressModel",
          "model_module_version": "1.5.0",
          "state": {
            "_dom_classes": [],
            "_model_module": "@jupyter-widgets/controls",
            "_model_module_version": "1.5.0",
            "_model_name": "FloatProgressModel",
            "_view_count": null,
            "_view_module": "@jupyter-widgets/controls",
            "_view_module_version": "1.5.0",
            "_view_name": "ProgressView",
            "bar_style": "danger",
            "description": "",
            "description_tooltip": null,
            "layout": "IPY_MODEL_c62d1b8fb9954b4db3fffb1b7cdecc82",
            "max": 150,
            "min": 0,
            "orientation": "horizontal",
            "style": "IPY_MODEL_ed749036bda84fc1b2a21c23955303a7",
            "value": 9
          }
        },
        "5d224ef575ec4dbf8b46e02cf1797e75": {
          "model_module": "@jupyter-widgets/controls",
          "model_name": "HTMLModel",
          "model_module_version": "1.5.0",
          "state": {
            "_dom_classes": [],
            "_model_module": "@jupyter-widgets/controls",
            "_model_module_version": "1.5.0",
            "_model_name": "HTMLModel",
            "_view_count": null,
            "_view_module": "@jupyter-widgets/controls",
            "_view_module_version": "1.5.0",
            "_view_name": "HTMLView",
            "description": "",
            "description_tooltip": null,
            "layout": "IPY_MODEL_70963407dd294421a022fa2d404c5bb5",
            "placeholder": "​",
            "style": "IPY_MODEL_7aed643fb31a4a5fa082f3264256b9f6",
            "value": " 9/150 [00:00&lt;00:01, 78.92it/s]"
          }
        },
        "9f7d484a342f48f6a7e9d6707009f895": {
          "model_module": "@jupyter-widgets/base",
          "model_name": "LayoutModel",
          "model_module_version": "1.2.0",
          "state": {
            "_model_module": "@jupyter-widgets/base",
            "_model_module_version": "1.2.0",
            "_model_name": "LayoutModel",
            "_view_count": null,
            "_view_module": "@jupyter-widgets/base",
            "_view_module_version": "1.2.0",
            "_view_name": "LayoutView",
            "align_content": null,
            "align_items": null,
            "align_self": null,
            "border": null,
            "bottom": null,
            "display": null,
            "flex": null,
            "flex_flow": null,
            "grid_area": null,
            "grid_auto_columns": null,
            "grid_auto_flow": null,
            "grid_auto_rows": null,
            "grid_column": null,
            "grid_gap": null,
            "grid_row": null,
            "grid_template_areas": null,
            "grid_template_columns": null,
            "grid_template_rows": null,
            "height": null,
            "justify_content": null,
            "justify_items": null,
            "left": null,
            "margin": null,
            "max_height": null,
            "max_width": null,
            "min_height": null,
            "min_width": null,
            "object_fit": null,
            "object_position": null,
            "order": null,
            "overflow": null,
            "overflow_x": null,
            "overflow_y": null,
            "padding": null,
            "right": null,
            "top": null,
            "visibility": null,
            "width": null
          }
        },
        "4b9bb791b83a495799b833b9117a1b45": {
          "model_module": "@jupyter-widgets/base",
          "model_name": "LayoutModel",
          "model_module_version": "1.2.0",
          "state": {
            "_model_module": "@jupyter-widgets/base",
            "_model_module_version": "1.2.0",
            "_model_name": "LayoutModel",
            "_view_count": null,
            "_view_module": "@jupyter-widgets/base",
            "_view_module_version": "1.2.0",
            "_view_name": "LayoutView",
            "align_content": null,
            "align_items": null,
            "align_self": null,
            "border": null,
            "bottom": null,
            "display": null,
            "flex": null,
            "flex_flow": null,
            "grid_area": null,
            "grid_auto_columns": null,
            "grid_auto_flow": null,
            "grid_auto_rows": null,
            "grid_column": null,
            "grid_gap": null,
            "grid_row": null,
            "grid_template_areas": null,
            "grid_template_columns": null,
            "grid_template_rows": null,
            "height": null,
            "justify_content": null,
            "justify_items": null,
            "left": null,
            "margin": null,
            "max_height": null,
            "max_width": null,
            "min_height": null,
            "min_width": null,
            "object_fit": null,
            "object_position": null,
            "order": null,
            "overflow": null,
            "overflow_x": null,
            "overflow_y": null,
            "padding": null,
            "right": null,
            "top": null,
            "visibility": null,
            "width": null
          }
        },
        "8caa1dda72654bcfa22c392534ffcd61": {
          "model_module": "@jupyter-widgets/controls",
          "model_name": "DescriptionStyleModel",
          "model_module_version": "1.5.0",
          "state": {
            "_model_module": "@jupyter-widgets/controls",
            "_model_module_version": "1.5.0",
            "_model_name": "DescriptionStyleModel",
            "_view_count": null,
            "_view_module": "@jupyter-widgets/base",
            "_view_module_version": "1.2.0",
            "_view_name": "StyleView",
            "description_width": ""
          }
        },
        "c62d1b8fb9954b4db3fffb1b7cdecc82": {
          "model_module": "@jupyter-widgets/base",
          "model_name": "LayoutModel",
          "model_module_version": "1.2.0",
          "state": {
            "_model_module": "@jupyter-widgets/base",
            "_model_module_version": "1.2.0",
            "_model_name": "LayoutModel",
            "_view_count": null,
            "_view_module": "@jupyter-widgets/base",
            "_view_module_version": "1.2.0",
            "_view_name": "LayoutView",
            "align_content": null,
            "align_items": null,
            "align_self": null,
            "border": null,
            "bottom": null,
            "display": null,
            "flex": null,
            "flex_flow": null,
            "grid_area": null,
            "grid_auto_columns": null,
            "grid_auto_flow": null,
            "grid_auto_rows": null,
            "grid_column": null,
            "grid_gap": null,
            "grid_row": null,
            "grid_template_areas": null,
            "grid_template_columns": null,
            "grid_template_rows": null,
            "height": null,
            "justify_content": null,
            "justify_items": null,
            "left": null,
            "margin": null,
            "max_height": null,
            "max_width": null,
            "min_height": null,
            "min_width": null,
            "object_fit": null,
            "object_position": null,
            "order": null,
            "overflow": null,
            "overflow_x": null,
            "overflow_y": null,
            "padding": null,
            "right": null,
            "top": null,
            "visibility": null,
            "width": null
          }
        },
        "ed749036bda84fc1b2a21c23955303a7": {
          "model_module": "@jupyter-widgets/controls",
          "model_name": "ProgressStyleModel",
          "model_module_version": "1.5.0",
          "state": {
            "_model_module": "@jupyter-widgets/controls",
            "_model_module_version": "1.5.0",
            "_model_name": "ProgressStyleModel",
            "_view_count": null,
            "_view_module": "@jupyter-widgets/base",
            "_view_module_version": "1.2.0",
            "_view_name": "StyleView",
            "bar_color": null,
            "description_width": ""
          }
        },
        "70963407dd294421a022fa2d404c5bb5": {
          "model_module": "@jupyter-widgets/base",
          "model_name": "LayoutModel",
          "model_module_version": "1.2.0",
          "state": {
            "_model_module": "@jupyter-widgets/base",
            "_model_module_version": "1.2.0",
            "_model_name": "LayoutModel",
            "_view_count": null,
            "_view_module": "@jupyter-widgets/base",
            "_view_module_version": "1.2.0",
            "_view_name": "LayoutView",
            "align_content": null,
            "align_items": null,
            "align_self": null,
            "border": null,
            "bottom": null,
            "display": null,
            "flex": null,
            "flex_flow": null,
            "grid_area": null,
            "grid_auto_columns": null,
            "grid_auto_flow": null,
            "grid_auto_rows": null,
            "grid_column": null,
            "grid_gap": null,
            "grid_row": null,
            "grid_template_areas": null,
            "grid_template_columns": null,
            "grid_template_rows": null,
            "height": null,
            "justify_content": null,
            "justify_items": null,
            "left": null,
            "margin": null,
            "max_height": null,
            "max_width": null,
            "min_height": null,
            "min_width": null,
            "object_fit": null,
            "object_position": null,
            "order": null,
            "overflow": null,
            "overflow_x": null,
            "overflow_y": null,
            "padding": null,
            "right": null,
            "top": null,
            "visibility": null,
            "width": null
          }
        },
        "7aed643fb31a4a5fa082f3264256b9f6": {
          "model_module": "@jupyter-widgets/controls",
          "model_name": "DescriptionStyleModel",
          "model_module_version": "1.5.0",
          "state": {
            "_model_module": "@jupyter-widgets/controls",
            "_model_module_version": "1.5.0",
            "_model_name": "DescriptionStyleModel",
            "_view_count": null,
            "_view_module": "@jupyter-widgets/base",
            "_view_module_version": "1.2.0",
            "_view_name": "StyleView",
            "description_width": ""
          }
        }
      }
    }
  },
  "nbformat": 4,
  "nbformat_minor": 5
}